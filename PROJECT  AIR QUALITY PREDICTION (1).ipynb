{
 "cells": [
  {
   "cell_type": "markdown",
   "metadata": {},
   "source": [
    "# AIR QUALITY PREDICTION USING SKLEARN\n",
    "\n",
    "Air Pollution is Rising!\n",
    "\n",
    "Predicting Pollution Levels using Machine Learning\n",
    "It is winter time in Delhi so Cody decided to go for a walk to the news stand and on reaching\n",
    "was surprised to see the air quality index of Delhi in the newspaper . So he decided to collect\n",
    "the air samples of different locations and then took these samples to his lab where he extracted\n",
    "five features of the air he collected which can be used to predict the air quality index and\n",
    "combined it with the air quality index given in the newspapers. You are provided with the data\n",
    "collected by Cody and your job is to design a machine learning model which given the features\n",
    "extracted by Cody can predict air quality.\n",
    "Data consist of three csv files :-\n",
    "1. Train.csv\n",
    "2. Test.csv\n",
    "Train:- The train data consists of five feature columns and one target column. All the feature\n",
    "columns are numeric and target value is also numeric.\n",
    "Test:- Test data consist all the columns contained by train with the exception of target column\n",
    "which u have to predict using the model trained on train data."
   ]
  },
  {
   "cell_type": "code",
   "execution_count": 5,
   "metadata": {},
   "outputs": [],
   "source": [
    "import numpy as np\n",
    "import pandas as pd\n",
    "import matplotlib.pyplot as plt\n",
    "%matplotlib inline\n",
    "from sklearn.linear_model import LinearRegression"
   ]
  },
  {
   "cell_type": "code",
   "execution_count": 11,
   "metadata": {},
   "outputs": [
    {
     "data": {
      "text/html": [
       "<div>\n",
       "<style scoped>\n",
       "    .dataframe tbody tr th:only-of-type {\n",
       "        vertical-align: middle;\n",
       "    }\n",
       "\n",
       "    .dataframe tbody tr th {\n",
       "        vertical-align: top;\n",
       "    }\n",
       "\n",
       "    .dataframe thead th {\n",
       "        text-align: right;\n",
       "    }\n",
       "</style>\n",
       "<table border=\"1\" class=\"dataframe\">\n",
       "  <thead>\n",
       "    <tr style=\"text-align: right;\">\n",
       "      <th></th>\n",
       "      <th>feature_1</th>\n",
       "      <th>feature_2</th>\n",
       "      <th>feature_3</th>\n",
       "      <th>feature_4</th>\n",
       "      <th>feature_5</th>\n",
       "      <th>target</th>\n",
       "    </tr>\n",
       "  </thead>\n",
       "  <tbody>\n",
       "    <tr>\n",
       "      <th>0</th>\n",
       "      <td>0.293416</td>\n",
       "      <td>-0.945599</td>\n",
       "      <td>-0.421105</td>\n",
       "      <td>0.406816</td>\n",
       "      <td>0.525662</td>\n",
       "      <td>-82.154667</td>\n",
       "    </tr>\n",
       "    <tr>\n",
       "      <th>1</th>\n",
       "      <td>-0.836084</td>\n",
       "      <td>-0.189228</td>\n",
       "      <td>-0.776403</td>\n",
       "      <td>-1.053831</td>\n",
       "      <td>0.597997</td>\n",
       "      <td>-48.897960</td>\n",
       "    </tr>\n",
       "    <tr>\n",
       "      <th>2</th>\n",
       "      <td>0.236425</td>\n",
       "      <td>0.132836</td>\n",
       "      <td>-0.147723</td>\n",
       "      <td>0.699854</td>\n",
       "      <td>-0.187364</td>\n",
       "      <td>77.270371</td>\n",
       "    </tr>\n",
       "    <tr>\n",
       "      <th>3</th>\n",
       "      <td>0.175312</td>\n",
       "      <td>0.143194</td>\n",
       "      <td>-0.581111</td>\n",
       "      <td>-0.122107</td>\n",
       "      <td>-1.292168</td>\n",
       "      <td>-2.988581</td>\n",
       "    </tr>\n",
       "    <tr>\n",
       "      <th>4</th>\n",
       "      <td>-1.693011</td>\n",
       "      <td>0.542712</td>\n",
       "      <td>-2.798729</td>\n",
       "      <td>-0.686723</td>\n",
       "      <td>1.244077</td>\n",
       "      <td>-37.596722</td>\n",
       "    </tr>\n",
       "  </tbody>\n",
       "</table>\n",
       "</div>"
      ],
      "text/plain": [
       "   feature_1  feature_2  feature_3  feature_4  feature_5     target\n",
       "0   0.293416  -0.945599  -0.421105   0.406816   0.525662 -82.154667\n",
       "1  -0.836084  -0.189228  -0.776403  -1.053831   0.597997 -48.897960\n",
       "2   0.236425   0.132836  -0.147723   0.699854  -0.187364  77.270371\n",
       "3   0.175312   0.143194  -0.581111  -0.122107  -1.292168  -2.988581\n",
       "4  -1.693011   0.542712  -2.798729  -0.686723   1.244077 -37.596722"
      ]
     },
     "execution_count": 11,
     "metadata": {},
     "output_type": "execute_result"
    }
   ],
   "source": [
    "data_given = pd.read_csv(\"Train.csv\")\n",
    "#checking few lines of given data\n",
    "data_given.head()\n"
   ]
  },
  {
   "cell_type": "code",
   "execution_count": 12,
   "metadata": {},
   "outputs": [
    {
     "data": {
      "text/plain": [
       "(1600, 6)"
      ]
     },
     "execution_count": 12,
     "metadata": {},
     "output_type": "execute_result"
    }
   ],
   "source": [
    "# shape of given data\n",
    "data_given.shape"
   ]
  },
  {
   "cell_type": "code",
   "execution_count": 13,
   "metadata": {},
   "outputs": [
    {
     "data": {
      "text/plain": [
       "feature_1    0\n",
       "feature_2    0\n",
       "feature_3    0\n",
       "feature_4    0\n",
       "feature_5    0\n",
       "target       0\n",
       "dtype: int64"
      ]
     },
     "execution_count": 13,
     "metadata": {},
     "output_type": "execute_result"
    }
   ],
   "source": [
    "#CHECKING ANY MISSING VALUES IN OUR DATA\n",
    "data_given.isnull().sum()\n",
    "# we found no missing values"
   ]
  },
  {
   "cell_type": "code",
   "execution_count": 18,
   "metadata": {},
   "outputs": [
    {
     "data": {
      "text/html": [
       "<div>\n",
       "<style scoped>\n",
       "    .dataframe tbody tr th:only-of-type {\n",
       "        vertical-align: middle;\n",
       "    }\n",
       "\n",
       "    .dataframe tbody tr th {\n",
       "        vertical-align: top;\n",
       "    }\n",
       "\n",
       "    .dataframe thead th {\n",
       "        text-align: right;\n",
       "    }\n",
       "</style>\n",
       "<table border=\"1\" class=\"dataframe\">\n",
       "  <thead>\n",
       "    <tr style=\"text-align: right;\">\n",
       "      <th></th>\n",
       "      <th>feature_1</th>\n",
       "      <th>feature_2</th>\n",
       "      <th>feature_3</th>\n",
       "      <th>feature_4</th>\n",
       "      <th>feature_5</th>\n",
       "    </tr>\n",
       "  </thead>\n",
       "  <tbody>\n",
       "    <tr>\n",
       "      <th>0</th>\n",
       "      <td>0.293416</td>\n",
       "      <td>-0.945599</td>\n",
       "      <td>-0.421105</td>\n",
       "      <td>0.406816</td>\n",
       "      <td>0.525662</td>\n",
       "    </tr>\n",
       "    <tr>\n",
       "      <th>1</th>\n",
       "      <td>-0.836084</td>\n",
       "      <td>-0.189228</td>\n",
       "      <td>-0.776403</td>\n",
       "      <td>-1.053831</td>\n",
       "      <td>0.597997</td>\n",
       "    </tr>\n",
       "    <tr>\n",
       "      <th>2</th>\n",
       "      <td>0.236425</td>\n",
       "      <td>0.132836</td>\n",
       "      <td>-0.147723</td>\n",
       "      <td>0.699854</td>\n",
       "      <td>-0.187364</td>\n",
       "    </tr>\n",
       "    <tr>\n",
       "      <th>3</th>\n",
       "      <td>0.175312</td>\n",
       "      <td>0.143194</td>\n",
       "      <td>-0.581111</td>\n",
       "      <td>-0.122107</td>\n",
       "      <td>-1.292168</td>\n",
       "    </tr>\n",
       "    <tr>\n",
       "      <th>4</th>\n",
       "      <td>-1.693011</td>\n",
       "      <td>0.542712</td>\n",
       "      <td>-2.798729</td>\n",
       "      <td>-0.686723</td>\n",
       "      <td>1.244077</td>\n",
       "    </tr>\n",
       "  </tbody>\n",
       "</table>\n",
       "</div>"
      ],
      "text/plain": [
       "   feature_1  feature_2  feature_3  feature_4  feature_5\n",
       "0   0.293416  -0.945599  -0.421105   0.406816   0.525662\n",
       "1  -0.836084  -0.189228  -0.776403  -1.053831   0.597997\n",
       "2   0.236425   0.132836  -0.147723   0.699854  -0.187364\n",
       "3   0.175312   0.143194  -0.581111  -0.122107  -1.292168\n",
       "4  -1.693011   0.542712  -2.798729  -0.686723   1.244077"
      ]
     },
     "execution_count": 18,
     "metadata": {},
     "output_type": "execute_result"
    }
   ],
   "source": [
    "# feature values\n",
    "X=data_given.loc[:,[\"feature_1\", \"feature_2\",\"feature_3\", \"feature_4\",\"feature_5\"]]\n",
    "X.head()"
   ]
  },
  {
   "cell_type": "code",
   "execution_count": 19,
   "metadata": {},
   "outputs": [
    {
     "data": {
      "text/html": [
       "<div>\n",
       "<style scoped>\n",
       "    .dataframe tbody tr th:only-of-type {\n",
       "        vertical-align: middle;\n",
       "    }\n",
       "\n",
       "    .dataframe tbody tr th {\n",
       "        vertical-align: top;\n",
       "    }\n",
       "\n",
       "    .dataframe thead th {\n",
       "        text-align: right;\n",
       "    }\n",
       "</style>\n",
       "<table border=\"1\" class=\"dataframe\">\n",
       "  <thead>\n",
       "    <tr style=\"text-align: right;\">\n",
       "      <th></th>\n",
       "      <th>target</th>\n",
       "    </tr>\n",
       "  </thead>\n",
       "  <tbody>\n",
       "    <tr>\n",
       "      <th>0</th>\n",
       "      <td>-82.154667</td>\n",
       "    </tr>\n",
       "    <tr>\n",
       "      <th>1</th>\n",
       "      <td>-48.897960</td>\n",
       "    </tr>\n",
       "    <tr>\n",
       "      <th>2</th>\n",
       "      <td>77.270371</td>\n",
       "    </tr>\n",
       "    <tr>\n",
       "      <th>3</th>\n",
       "      <td>-2.988581</td>\n",
       "    </tr>\n",
       "    <tr>\n",
       "      <th>4</th>\n",
       "      <td>-37.596722</td>\n",
       "    </tr>\n",
       "  </tbody>\n",
       "</table>\n",
       "</div>"
      ],
      "text/plain": [
       "      target\n",
       "0 -82.154667\n",
       "1 -48.897960\n",
       "2  77.270371\n",
       "3  -2.988581\n",
       "4 -37.596722"
      ]
     },
     "execution_count": 19,
     "metadata": {},
     "output_type": "execute_result"
    }
   ],
   "source": [
    "# target values\n",
    "Y=data_given.loc[:, [\"target\"]]\n",
    "Y.head()"
   ]
  },
  {
   "cell_type": "code",
   "execution_count": 20,
   "metadata": {},
   "outputs": [
    {
     "data": {
      "text/plain": [
       "LinearRegression(copy_X=True, fit_intercept=True, n_jobs=None,\n",
       "         normalize=False)"
      ]
     },
     "execution_count": 20,
     "metadata": {},
     "output_type": "execute_result"
    }
   ],
   "source": [
    "model=LinearRegression()\n",
    "# fitting the model\n",
    "model.fit(X,Y)"
   ]
  },
  {
   "cell_type": "code",
   "execution_count": 22,
   "metadata": {},
   "outputs": [
    {
     "data": {
      "text/plain": [
       "array([[ 1.14583689e+02],\n",
       "       [ 1.18012815e+02],\n",
       "       [-2.17398523e+01],\n",
       "       [-4.39368985e+01],\n",
       "       [-9.59148984e+01],\n",
       "       [-4.45074240e+01],\n",
       "       [-7.55665260e+01],\n",
       "       [ 2.38208355e+01],\n",
       "       [ 1.73835284e+02],\n",
       "       [ 1.72849290e+02],\n",
       "       [-1.05402312e+02],\n",
       "       [-2.08020234e+01],\n",
       "       [-3.91323777e+00],\n",
       "       [ 1.22999186e+02],\n",
       "       [ 4.03078842e+01],\n",
       "       [ 4.57128495e+01],\n",
       "       [-1.89628491e+02],\n",
       "       [ 2.26125454e+01],\n",
       "       [ 1.16410473e+01],\n",
       "       [ 1.36342143e+02],\n",
       "       [ 6.49162552e+01],\n",
       "       [-6.19884884e+01],\n",
       "       [-1.08194679e+02],\n",
       "       [-7.41212747e+00],\n",
       "       [-5.85239528e+01],\n",
       "       [ 1.18889777e+01],\n",
       "       [ 2.92376400e+01],\n",
       "       [ 1.07687579e+02],\n",
       "       [ 2.41468563e+01],\n",
       "       [-2.61050120e+01],\n",
       "       [ 1.10968076e+02],\n",
       "       [-4.48797096e+01],\n",
       "       [ 2.16799939e+02],\n",
       "       [-1.38606052e+01],\n",
       "       [-2.28603182e+02],\n",
       "       [ 1.54896021e+02],\n",
       "       [-2.22583390e+00],\n",
       "       [ 1.27230344e+01],\n",
       "       [-3.08307877e+02],\n",
       "       [ 7.71107583e+01],\n",
       "       [-8.12079177e+01],\n",
       "       [-2.06632925e+02],\n",
       "       [-2.38762881e+02],\n",
       "       [ 1.34757365e+02],\n",
       "       [-7.37514777e+01],\n",
       "       [ 1.05463702e+02],\n",
       "       [-3.59074927e+00],\n",
       "       [ 2.06043839e+01],\n",
       "       [-9.80187354e+01],\n",
       "       [-2.75169049e+01],\n",
       "       [ 1.08159001e+01],\n",
       "       [-1.74463534e+02],\n",
       "       [ 6.51557518e+01],\n",
       "       [-9.78063844e+01],\n",
       "       [-1.06151855e+02],\n",
       "       [-1.55942178e+02],\n",
       "       [ 6.25361032e+01],\n",
       "       [ 1.08628991e+02],\n",
       "       [-7.46103422e+01],\n",
       "       [ 4.17396380e+01],\n",
       "       [ 4.12242983e+01],\n",
       "       [-5.08043007e+01],\n",
       "       [ 1.64887262e+02],\n",
       "       [ 4.35635985e+01],\n",
       "       [ 5.69371401e+01],\n",
       "       [ 2.41211334e+01],\n",
       "       [ 8.16773838e+01],\n",
       "       [-1.80304316e+00],\n",
       "       [-3.09735011e+00],\n",
       "       [ 1.80977272e+00],\n",
       "       [-2.39397288e+01],\n",
       "       [ 1.61874720e+02],\n",
       "       [-4.10129899e+01],\n",
       "       [ 2.15560701e+01],\n",
       "       [-6.64305442e+01],\n",
       "       [-6.92710146e+01],\n",
       "       [ 3.69986169e+01],\n",
       "       [-1.60490354e+02],\n",
       "       [-1.76152673e+00],\n",
       "       [ 1.51309319e+02],\n",
       "       [-3.80218327e+01],\n",
       "       [-1.20320688e+02],\n",
       "       [-1.94436345e+02],\n",
       "       [ 3.64493852e+01],\n",
       "       [ 1.46425717e+02],\n",
       "       [ 2.71429735e+02],\n",
       "       [-2.56998804e+02],\n",
       "       [-8.85512683e+01],\n",
       "       [ 7.62607756e+01],\n",
       "       [-8.99426453e+01],\n",
       "       [-4.94099238e+01],\n",
       "       [ 1.25588303e+02],\n",
       "       [-1.63891147e+02],\n",
       "       [-1.16823341e+02],\n",
       "       [ 4.87104404e+01],\n",
       "       [ 9.81684061e+01],\n",
       "       [-2.15581459e+02],\n",
       "       [-1.21288951e+02],\n",
       "       [-1.72346819e+02],\n",
       "       [-5.12594130e+01],\n",
       "       [ 1.27991975e+02],\n",
       "       [-8.38947004e+01],\n",
       "       [-3.93355710e+00],\n",
       "       [-1.45819362e+00],\n",
       "       [ 6.87157159e-02],\n",
       "       [ 8.07263279e+01],\n",
       "       [ 4.45095525e+01],\n",
       "       [ 9.24525606e+01],\n",
       "       [-3.02937078e+01],\n",
       "       [-8.41409462e+01],\n",
       "       [ 3.86056584e+01],\n",
       "       [ 1.82850652e+01],\n",
       "       [ 1.17401859e+02],\n",
       "       [ 7.70873241e+00],\n",
       "       [ 7.35667699e+01],\n",
       "       [ 3.27250659e+01],\n",
       "       [-1.42403921e+02],\n",
       "       [ 7.21277669e+00],\n",
       "       [ 2.10140289e+01],\n",
       "       [-2.27889032e+01],\n",
       "       [-2.11981550e+01],\n",
       "       [-2.55771207e+02],\n",
       "       [ 2.67437280e+02],\n",
       "       [ 1.55039195e+02],\n",
       "       [ 1.43417317e+01],\n",
       "       [ 8.35124515e+01],\n",
       "       [-1.21442232e+01],\n",
       "       [-1.53097324e+02],\n",
       "       [ 1.12393595e+02],\n",
       "       [-3.20459035e+01],\n",
       "       [-2.16024763e+02],\n",
       "       [ 1.21057697e+02],\n",
       "       [-2.98930911e+01],\n",
       "       [-8.68348066e+01],\n",
       "       [ 1.70724468e+02],\n",
       "       [ 3.91922861e+01],\n",
       "       [-1.93300026e+01],\n",
       "       [ 6.17641657e+01],\n",
       "       [ 4.60812147e+01],\n",
       "       [-1.75029471e+02],\n",
       "       [ 1.30155609e+02],\n",
       "       [-7.28071887e+01],\n",
       "       [ 2.12090398e+02],\n",
       "       [ 1.35346245e+02],\n",
       "       [ 2.30097434e-01],\n",
       "       [-1.53844667e+02],\n",
       "       [-1.48709586e+01],\n",
       "       [ 1.33660081e+02],\n",
       "       [ 3.59628027e+01],\n",
       "       [ 5.77045854e+01],\n",
       "       [-4.36552160e+00],\n",
       "       [-4.31110458e+01],\n",
       "       [ 1.77217405e+01],\n",
       "       [-6.97051989e+01],\n",
       "       [ 2.85463704e+01],\n",
       "       [ 1.41994072e+02],\n",
       "       [ 3.46823799e+02],\n",
       "       [ 2.16924179e+02],\n",
       "       [ 2.78162767e+01],\n",
       "       [-3.77390624e+01],\n",
       "       [-1.71397275e+02],\n",
       "       [ 1.28961678e+01],\n",
       "       [ 2.98607728e+02],\n",
       "       [ 7.56384285e+01],\n",
       "       [-2.21090992e+01],\n",
       "       [ 1.55678418e+02],\n",
       "       [-1.55694869e+02],\n",
       "       [ 1.41408003e+02],\n",
       "       [ 1.71079952e+02],\n",
       "       [-4.69490852e+01],\n",
       "       [ 6.55777840e+01],\n",
       "       [ 9.72533920e+01],\n",
       "       [ 9.49267603e+01],\n",
       "       [ 3.18715034e+01],\n",
       "       [ 1.74337052e+02],\n",
       "       [-1.51155108e+02],\n",
       "       [-9.43342846e+01],\n",
       "       [-1.69777111e+02],\n",
       "       [-1.82969143e+01],\n",
       "       [-1.07277796e+02],\n",
       "       [-1.41266108e+01],\n",
       "       [-5.88120172e+01],\n",
       "       [-7.50832380e+01],\n",
       "       [ 6.73587271e+01],\n",
       "       [-6.89703478e+01],\n",
       "       [ 8.88318631e+01],\n",
       "       [-5.70948342e+01],\n",
       "       [-1.09741255e+02],\n",
       "       [-7.77833544e+01],\n",
       "       [ 1.85629304e+02],\n",
       "       [-4.14282206e+01],\n",
       "       [ 2.19635522e+02],\n",
       "       [-5.66172847e+01],\n",
       "       [-8.36222525e+01],\n",
       "       [ 4.73238005e+01],\n",
       "       [ 6.26076531e-01],\n",
       "       [ 7.13821511e+01],\n",
       "       [-6.06639903e+01],\n",
       "       [ 2.09659127e+02],\n",
       "       [-1.38637055e+02],\n",
       "       [-9.68478030e+01],\n",
       "       [-1.15583978e+02],\n",
       "       [ 2.49654102e+01],\n",
       "       [ 5.42952400e+01],\n",
       "       [ 1.50502762e+02],\n",
       "       [ 4.68983224e+01],\n",
       "       [ 9.19854966e+01],\n",
       "       [ 1.73013101e+02],\n",
       "       [-2.70553209e+02],\n",
       "       [-1.73857397e+02],\n",
       "       [-1.05304177e+02],\n",
       "       [-8.25142264e+01],\n",
       "       [ 2.90802473e+01],\n",
       "       [-5.03321805e+01],\n",
       "       [ 7.80970160e+01],\n",
       "       [-2.01979151e+01],\n",
       "       [-5.22163204e+01],\n",
       "       [-2.86307739e+01],\n",
       "       [ 6.56560573e+01],\n",
       "       [ 9.17307327e+01],\n",
       "       [-8.26675481e+01],\n",
       "       [-1.48460926e+02],\n",
       "       [ 4.86777092e+01],\n",
       "       [ 2.38567646e+02],\n",
       "       [-4.86998996e+01],\n",
       "       [ 1.57631321e+01],\n",
       "       [-6.19899690e+01],\n",
       "       [ 1.31485707e+01],\n",
       "       [ 1.00289512e+01],\n",
       "       [ 3.99646084e+01],\n",
       "       [ 1.15958615e+02],\n",
       "       [ 1.86669503e+01],\n",
       "       [-1.07329942e+02],\n",
       "       [ 4.67695594e+01],\n",
       "       [ 1.00039959e+02],\n",
       "       [-8.87533938e+01],\n",
       "       [-1.74694218e+02],\n",
       "       [ 1.69478147e+02],\n",
       "       [ 1.09352799e+02],\n",
       "       [ 6.20899161e+01],\n",
       "       [-8.54397834e+00],\n",
       "       [-2.48564441e+01],\n",
       "       [-4.77166394e+01],\n",
       "       [-1.71011355e+02],\n",
       "       [-6.50008843e+01],\n",
       "       [-2.77481804e+01],\n",
       "       [-1.71402598e+02],\n",
       "       [-2.82093276e+01],\n",
       "       [ 3.43188175e+01],\n",
       "       [-1.21610783e+02],\n",
       "       [ 1.74264374e+01],\n",
       "       [-7.73081929e-01],\n",
       "       [-2.54182308e+02],\n",
       "       [-2.53529253e+02],\n",
       "       [-1.65878766e+02],\n",
       "       [ 4.67111041e+01],\n",
       "       [ 1.31612022e+02],\n",
       "       [ 7.07816400e+01],\n",
       "       [ 1.19875914e+02],\n",
       "       [ 9.38430102e+01],\n",
       "       [ 2.21288003e+01],\n",
       "       [-3.06145032e+02],\n",
       "       [ 1.87134675e+02],\n",
       "       [-1.30086933e+02],\n",
       "       [-4.39017442e+01],\n",
       "       [-8.48294430e+01],\n",
       "       [-8.75139738e+01],\n",
       "       [ 1.37064206e+02],\n",
       "       [ 1.62663114e+02],\n",
       "       [-4.04306781e+01],\n",
       "       [-1.42315693e+02],\n",
       "       [ 1.13295414e+02],\n",
       "       [-1.98162283e+01],\n",
       "       [ 8.81663869e+01],\n",
       "       [ 1.05992718e+02],\n",
       "       [ 2.53000074e+01],\n",
       "       [-5.08837521e+01],\n",
       "       [-2.69524817e+01],\n",
       "       [ 3.01092851e+01],\n",
       "       [ 7.38938849e+01],\n",
       "       [ 2.83608166e+01],\n",
       "       [-1.28416330e+02],\n",
       "       [-1.52776301e+01],\n",
       "       [-1.10374437e+01],\n",
       "       [-1.26794785e+02],\n",
       "       [ 1.62120112e+02],\n",
       "       [-1.00838833e+01],\n",
       "       [-1.33336316e+02],\n",
       "       [ 2.06450695e+02],\n",
       "       [ 4.88376450e+01],\n",
       "       [ 9.32013696e+01],\n",
       "       [ 3.13905901e+01],\n",
       "       [ 2.07038229e+02],\n",
       "       [-3.89970195e+01],\n",
       "       [-3.07289410e+01],\n",
       "       [-4.01751698e+01],\n",
       "       [ 5.23598108e+01],\n",
       "       [-6.24040563e+01],\n",
       "       [ 9.36382324e+01],\n",
       "       [-8.42914985e+01],\n",
       "       [-9.55313843e+01],\n",
       "       [-2.43804958e+01],\n",
       "       [-8.98079279e+01],\n",
       "       [-2.31749011e+01],\n",
       "       [ 5.96648383e+01],\n",
       "       [-3.24313782e+01],\n",
       "       [-7.40946220e+01],\n",
       "       [-1.79732441e+02],\n",
       "       [-1.63685038e+02],\n",
       "       [ 4.11883520e+01],\n",
       "       [ 8.02784922e+01],\n",
       "       [ 3.01577804e+02],\n",
       "       [ 1.28554327e+02],\n",
       "       [ 1.30832988e+02],\n",
       "       [ 5.25149254e+01],\n",
       "       [-2.12873997e+01],\n",
       "       [ 1.83267572e+02],\n",
       "       [-5.88757862e+01],\n",
       "       [ 1.29469597e+02],\n",
       "       [ 1.52655487e+02],\n",
       "       [-3.33223694e+01],\n",
       "       [-2.02138568e+02],\n",
       "       [-9.88606794e+01],\n",
       "       [ 4.34312192e+00],\n",
       "       [-4.48044373e+01],\n",
       "       [-3.78196288e+01],\n",
       "       [ 1.57823714e+02],\n",
       "       [ 1.34014627e+02],\n",
       "       [ 2.50245556e+01],\n",
       "       [-8.84390602e+01],\n",
       "       [ 1.87246379e+02],\n",
       "       [-6.54536233e+01],\n",
       "       [ 6.55402344e+01],\n",
       "       [ 8.03561819e+01],\n",
       "       [ 9.88057301e+01],\n",
       "       [-1.05254566e+02],\n",
       "       [ 1.14404232e+02],\n",
       "       [-3.49199136e+01],\n",
       "       [ 8.86094632e+01],\n",
       "       [-8.33695266e+01],\n",
       "       [-2.02231114e+02],\n",
       "       [ 1.58221478e+02],\n",
       "       [-9.31481791e+01],\n",
       "       [ 6.59816387e+01],\n",
       "       [ 1.25513068e+02],\n",
       "       [ 3.07073555e+01],\n",
       "       [-1.75221035e+02],\n",
       "       [-3.37049758e+01],\n",
       "       [-4.79594491e+01],\n",
       "       [-1.17026015e+02],\n",
       "       [ 1.22681657e+01],\n",
       "       [-8.81417151e+01],\n",
       "       [-3.89840106e+01],\n",
       "       [-1.63414696e+02],\n",
       "       [-2.18465652e+02],\n",
       "       [ 5.51305633e+00],\n",
       "       [-2.05947839e+02],\n",
       "       [ 1.85721065e+02],\n",
       "       [-9.25001204e+00],\n",
       "       [ 1.80720271e+01],\n",
       "       [ 3.27977960e+01],\n",
       "       [ 2.41092423e+02],\n",
       "       [-2.73852965e+01],\n",
       "       [ 1.34032356e+02],\n",
       "       [ 5.73968795e+01],\n",
       "       [ 1.05388596e+01],\n",
       "       [-8.65082599e+01],\n",
       "       [-9.65674714e+00],\n",
       "       [ 2.23430526e+02],\n",
       "       [-1.47055341e+01],\n",
       "       [-1.37921702e+02],\n",
       "       [-5.05147716e+01],\n",
       "       [-9.36793798e+01],\n",
       "       [ 8.81628163e+00],\n",
       "       [-1.46040269e+01],\n",
       "       [-6.28519967e+01],\n",
       "       [-1.64655543e+01],\n",
       "       [-1.72962640e+02],\n",
       "       [-1.22791775e+02],\n",
       "       [ 4.52738982e+01],\n",
       "       [-3.73099314e+01],\n",
       "       [-1.57438494e+02],\n",
       "       [ 8.74983858e+01],\n",
       "       [-3.20726424e-01],\n",
       "       [ 1.33257842e+02],\n",
       "       [-4.71722088e+01],\n",
       "       [ 2.57466116e+00],\n",
       "       [ 1.74227519e+02],\n",
       "       [ 1.70930081e+02],\n",
       "       [ 4.64333575e+01],\n",
       "       [-2.67206510e+01],\n",
       "       [ 5.96322523e+01],\n",
       "       [ 1.11659113e+02],\n",
       "       [-3.65027668e+01],\n",
       "       [-6.91390527e+01],\n",
       "       [-8.19890004e+01],\n",
       "       [-1.86032535e+02],\n",
       "       [ 1.25292336e+02],\n",
       "       [ 6.53698407e+01],\n",
       "       [ 5.70596907e+01]])"
      ]
     },
     "execution_count": 22,
     "metadata": {},
     "output_type": "execute_result"
    }
   ],
   "source": [
    "# predicting values\n",
    "x_test=pd.read_csv(\"Test.csv\")\n",
    "#predicting the test data\n",
    "y_test = model.predict(x_test)\n",
    "y_test"
   ]
  },
  {
   "cell_type": "code",
   "execution_count": 23,
   "metadata": {},
   "outputs": [
    {
     "data": {
      "text/plain": [
       "1.0"
      ]
     },
     "execution_count": 23,
     "metadata": {},
     "output_type": "execute_result"
    }
   ],
   "source": [
    "model.score(x_test, y_test)"
   ]
  },
  {
   "cell_type": "code",
   "execution_count": null,
   "metadata": {},
   "outputs": [],
   "source": []
  },
  {
   "cell_type": "markdown",
   "metadata": {},
   "source": [
    "# Assignment 2 - Smart Watch\n",
    "Since you are a student of Coding Club, you are expected to work hard and get better results\n",
    "than others. To track your time and expected performance in the Machine Learning Challenge,\n",
    "Rishabh bhaiya has asked you to install walkatime on your device which is an efficient time\n",
    "tracking tool to track your daily coding activity.\n",
    "In this challenge, Rishabh bhaiya gives you walkatime data of his past students and how they\n",
    "performed in the evaluation exam. Your task is to predict the score you will get given the\n",
    "amount of time you spend on coding daily.\n",
    "\n",
    "Input - You are given one feature corresponding to time noted by walkatime.\n",
    "\n",
    "Output - A scalar denoting the level of performance students achieved by devoting the given\n",
    "time.\n"
   ]
  },
  {
   "cell_type": "markdown",
   "metadata": {},
   "source": [
    "# USING SKLEARN"
   ]
  },
  {
   "cell_type": "code",
   "execution_count": 24,
   "metadata": {},
   "outputs": [],
   "source": [
    "import numpy as np\n",
    "import pandas as pd\n",
    "import matplotlib.pyplot as plt\n",
    "%matplotlib inline\n",
    "from sklearn.linear_model import LinearRegression"
   ]
  },
  {
   "cell_type": "code",
   "execution_count": 25,
   "metadata": {},
   "outputs": [],
   "source": [
    "# reading the data\n",
    "dfX = pd.read_csv(\"Linear_X_Train.csv\")\n",
    "dfY = pd.read_csv(\"Linear_Y_Train.csv\")"
   ]
  },
  {
   "cell_type": "code",
   "execution_count": 27,
   "metadata": {},
   "outputs": [
    {
     "data": {
      "text/html": [
       "<div>\n",
       "<style scoped>\n",
       "    .dataframe tbody tr th:only-of-type {\n",
       "        vertical-align: middle;\n",
       "    }\n",
       "\n",
       "    .dataframe tbody tr th {\n",
       "        vertical-align: top;\n",
       "    }\n",
       "\n",
       "    .dataframe thead th {\n",
       "        text-align: right;\n",
       "    }\n",
       "</style>\n",
       "<table border=\"1\" class=\"dataframe\">\n",
       "  <thead>\n",
       "    <tr style=\"text-align: right;\">\n",
       "      <th></th>\n",
       "      <th>x</th>\n",
       "    </tr>\n",
       "  </thead>\n",
       "  <tbody>\n",
       "    <tr>\n",
       "      <th>0</th>\n",
       "      <td>-0.289307</td>\n",
       "    </tr>\n",
       "    <tr>\n",
       "      <th>1</th>\n",
       "      <td>-0.588810</td>\n",
       "    </tr>\n",
       "    <tr>\n",
       "      <th>2</th>\n",
       "      <td>1.027507</td>\n",
       "    </tr>\n",
       "    <tr>\n",
       "      <th>3</th>\n",
       "      <td>-0.259013</td>\n",
       "    </tr>\n",
       "    <tr>\n",
       "      <th>4</th>\n",
       "      <td>0.782043</td>\n",
       "    </tr>\n",
       "  </tbody>\n",
       "</table>\n",
       "</div>"
      ],
      "text/plain": [
       "          x\n",
       "0 -0.289307\n",
       "1 -0.588810\n",
       "2  1.027507\n",
       "3 -0.259013\n",
       "4  0.782043"
      ]
     },
     "execution_count": 27,
     "metadata": {},
     "output_type": "execute_result"
    }
   ],
   "source": [
    "dfX.head()"
   ]
  },
  {
   "cell_type": "code",
   "execution_count": 28,
   "metadata": {},
   "outputs": [
    {
     "data": {
      "text/html": [
       "<div>\n",
       "<style scoped>\n",
       "    .dataframe tbody tr th:only-of-type {\n",
       "        vertical-align: middle;\n",
       "    }\n",
       "\n",
       "    .dataframe tbody tr th {\n",
       "        vertical-align: top;\n",
       "    }\n",
       "\n",
       "    .dataframe thead th {\n",
       "        text-align: right;\n",
       "    }\n",
       "</style>\n",
       "<table border=\"1\" class=\"dataframe\">\n",
       "  <thead>\n",
       "    <tr style=\"text-align: right;\">\n",
       "      <th></th>\n",
       "      <th>y</th>\n",
       "    </tr>\n",
       "  </thead>\n",
       "  <tbody>\n",
       "    <tr>\n",
       "      <th>0</th>\n",
       "      <td>-0.091101</td>\n",
       "    </tr>\n",
       "    <tr>\n",
       "      <th>1</th>\n",
       "      <td>-53.467721</td>\n",
       "    </tr>\n",
       "    <tr>\n",
       "      <th>2</th>\n",
       "      <td>75.457009</td>\n",
       "    </tr>\n",
       "    <tr>\n",
       "      <th>3</th>\n",
       "      <td>-12.025286</td>\n",
       "    </tr>\n",
       "    <tr>\n",
       "      <th>4</th>\n",
       "      <td>57.414187</td>\n",
       "    </tr>\n",
       "  </tbody>\n",
       "</table>\n",
       "</div>"
      ],
      "text/plain": [
       "           y\n",
       "0  -0.091101\n",
       "1 -53.467721\n",
       "2  75.457009\n",
       "3 -12.025286\n",
       "4  57.414187"
      ]
     },
     "execution_count": 28,
     "metadata": {},
     "output_type": "execute_result"
    }
   ],
   "source": [
    "dfY.head()"
   ]
  },
  {
   "cell_type": "code",
   "execution_count": 29,
   "metadata": {},
   "outputs": [
    {
     "data": {
      "image/png": "[encoded data removed]",
      "text/plain": [
       "<Figure size 432x288 with 1 Axes>"
      ]
     },
     "metadata": {
      "needs_background": "light"
     },
     "output_type": "display_data"
    }
   ],
   "source": [
    "plt.scatter(dfX,dfY, color='g')\n",
    "plt.show()"
   ]
  },
  {
   "cell_type": "code",
   "execution_count": 30,
   "metadata": {},
   "outputs": [
    {
     "data": {
      "text/plain": [
       "LinearRegression(copy_X=True, fit_intercept=True, n_jobs=None,\n",
       "         normalize=False)"
      ]
     },
     "execution_count": 30,
     "metadata": {},
     "output_type": "execute_result"
    }
   ],
   "source": [
    "model = LinearRegression()\n",
    "model.fit(dfX,dfY)"
   ]
  },
  {
   "cell_type": "code",
   "execution_count": 31,
   "metadata": {},
   "outputs": [
    {
     "data": {
      "text/plain": [
       "array([[-147.52847525],\n",
       "       [ -66.26699842],\n",
       "       [-200.06209345],\n",
       "       ...,\n",
       "       [  14.0382031 ],\n",
       "       [ -18.66616899],\n",
       "       [ -51.07594693]])"
      ]
     },
     "execution_count": 31,
     "metadata": {},
     "output_type": "execute_result"
    }
   ],
   "source": [
    "df = pd.read_csv(\"Linear_X_Test.csv\")\n",
    "\n",
    "y_test = model.predict(df)\n",
    "y_test"
   ]
  },
  {
   "cell_type": "code",
   "execution_count": 32,
   "metadata": {},
   "outputs": [
    {
     "data": {
      "text/plain": [
       "1.0"
      ]
     },
     "execution_count": 32,
     "metadata": {},
     "output_type": "execute_result"
    }
   ],
   "source": [
    "model.score(df,y_test)"
   ]
  },
  {
   "cell_type": "code",
   "execution_count": 33,
   "metadata": {},
   "outputs": [
    {
     "data": {
      "image/png": "[encoded data removed]",
      "text/plain": [
       "<Figure size 432x288 with 1 Axes>"
      ]
     },
     "metadata": {
      "needs_background": "light"
     },
     "output_type": "display_data"
    }
   ],
   "source": [
    "plt.scatter(dfX,dfY,label='data', color='g')\n",
    "plt.plot(df,y_test,color='r',label='prediction')\n",
    "plt.legend()\n",
    "plt.show()"
   ]
  },
  {
   "cell_type": "markdown",
   "metadata": {},
   "source": [
    "# BY SCRATCH"
   ]
  },
  {
   "cell_type": "code",
   "execution_count": 34,
   "metadata": {},
   "outputs": [],
   "source": [
    "dfx = pd.read_csv('Linear_X_Train.csv')\n",
    "dfy = pd.read_csv('Linear_Y_Train.csv')\n",
    "x = dfx.values\n",
    "y = dfy.values\n",
    "x = x.reshape((3750,))\n",
    "y = y.reshape((3750,))"
   ]
  },
  {
   "cell_type": "code",
   "execution_count": 35,
   "metadata": {},
   "outputs": [
    {
     "name": "stdout",
     "output_type": "stream",
     "text": [
      "[-9.11011171e-02 -5.34677208e+01  7.54570088e+01 ... -3.49832749e+01\n",
      "  1.45206092e+02 -1.71244939e+01]\n",
      "[-0.28930742 -0.58880963  1.02750749 ... -0.30516366  1.67583291\n",
      " -0.49175724]\n"
     ]
    }
   ],
   "source": [
    "print(y)\n",
    "print(x)"
   ]
  },
  {
   "cell_type": "code",
   "execution_count": 36,
   "metadata": {},
   "outputs": [
    {
     "data": {
      "image/png": "[encoded data removed]",
      "text/plain": [
       "<Figure size 432x288 with 1 Axes>"
      ]
     },
     "metadata": {
      "needs_background": "light"
     },
     "output_type": "display_data"
    }
   ],
   "source": [
    "plt.scatter(x,y, color='g')\n",
    "plt.show()"
   ]
  },
  {
   "cell_type": "code",
   "execution_count": 37,
   "metadata": {},
   "outputs": [],
   "source": [
    "def hypothesis(theta, x):\n",
    "    return theta[0] + theta[1]*x"
   ]
  },
  {
   "cell_type": "code",
   "execution_count": 38,
   "metadata": {},
   "outputs": [],
   "source": [
    "def error(x,y,theta):\n",
    "    \n",
    "    m = x.shape[0]\n",
    "    \n",
    "    total_error = 0\n",
    "    for i in range(m):\n",
    "        total_error += (y[i] - hypothesis(theta,x[i]))**2\n",
    "        \n",
    "    return 0.5*total_error\n",
    "def gradient(x,y,theta):\n",
    "    \n",
    "    grad = np.array([0.0,0.0])\n",
    "    m = x.shape[0]\n",
    "    for i in range(m):\n",
    "        grad[0] += (hypothesis(theta,x[i]) - y[i])\n",
    "        grad[1] += (hypothesis(theta,x[i]) - y[i])*x[i]\n",
    "        \n",
    "    return grad"
   ]
  },
  {
   "cell_type": "code",
   "execution_count": 39,
   "metadata": {},
   "outputs": [],
   "source": [
    "def gradient_descent(x,y,learning_rate,maxIter):\n",
    "    \n",
    "    theta = np.array([0.0,0.0])\n",
    "    err = []\n",
    "    for i in range(maxIter):\n",
    "        grad = gradient(x,y,theta)\n",
    "        ce = error(x,y,theta)\n",
    "        theta[0] = theta[0] - learning_rate*grad[0]\n",
    "        theta[1] = theta[1] - learning_rate*grad[1]\n",
    "        err.append(ce)\n",
    "        \n",
    "    return theta,err"
   ]
  },
  {
   "cell_type": "code",
   "execution_count": 40,
   "metadata": {},
   "outputs": [
    {
     "name": "stdout",
     "output_type": "stream",
     "text": [
      "3.7279882844527186 80.5436318548259\n"
     ]
    }
   ],
   "source": [
    "theta, err = gradient_descent(x,y,learning_rate=0.00001,maxIter=1000)\n",
    "print(theta[0], theta[1])"
   ]
  },
  {
   "cell_type": "code",
   "execution_count": 41,
   "metadata": {},
   "outputs": [
    {
     "data": {
      "image/png": "[encoded data removed]",
      "text/plain": [
       "<Figure size 432x288 with 1 Axes>"
      ]
     },
     "metadata": {
      "needs_background": "light"
     },
     "output_type": "display_data"
    }
   ],
   "source": [
    "plt.scatter(x,y, color='g', label='data')\n",
    "plt.plot(x,hypothesis(theta,x), color='r', label='prediction')\n",
    "plt.legend()\n",
    "plt.show()"
   ]
  },
  {
   "cell_type": "code",
   "execution_count": null,
   "metadata": {},
   "outputs": [],
   "source": []
  }
 ],
 "metadata": {
  "kernelspec": {
   "display_name": "Python 3",
   "language": "python",
   "name": "python3"
  },
  "language_info": {
   "codemirror_mode": {
    "name": "ipython",
    "version": 3
   },
   "file_extension": ".py",
   "mimetype": "text/x-python",
   "name": "python",
   "nbconvert_exporter": "python",
   "pygments_lexer": "ipython3",
   "version": "3.7.6"
  }
 },
 "nbformat": 4,
 "nbformat_minor": 4
}
